{
 "cells": [
  {
   "cell_type": "markdown",
   "id": "13f13467-7215-48ed-97c4-ef987cb2b8e1",
   "metadata": {},
   "source": [
    "Q1. What is Flask Framework? What are the advantages of Flask Framework?"
   ]
  },
  {
   "cell_type": "markdown",
   "id": "a8cf61e8-b8d0-41f2-82a8-7daf10f699fc",
   "metadata": {},
   "source": [
    "Ans:Flask is a micro web framework written in Python that provides a simple and easy way to build web applications."
   ]
  },
  {
   "cell_type": "markdown",
   "id": "6131b713-5253-4d65-9f10-45d4fc66be3e",
   "metadata": {},
   "source": [
    "Advantages of Flask\n",
    "1.Scalable.\n",
    "2.Flexible.\n",
    "3.Lightweight.\n",
    "4.Easy to negotiate."
   ]
  },
  {
   "cell_type": "markdown",
   "id": "fe396e46-1433-48e5-af56-2cd67fe77f18",
   "metadata": {},
   "source": [
    "Q2. Create a simple Flask application to display ‘Hello World!!’. Attach the screenshot of the output in\n",
    "Jupyter Notebook."
   ]
  },
  {
   "cell_type": "code",
   "execution_count": null,
   "id": "6809bb1b-b821-4daa-9129-b2a0fa155433",
   "metadata": {},
   "outputs": [],
   "source": [
    "Ans:"
   ]
  },
  {
   "cell_type": "markdown",
   "id": "18b8a216-c195-4548-9379-c8043a64ac0f",
   "metadata": {},
   "source": [
    "from flask import Flask\n",
    "from flask import request\n",
    "\n",
    "app = Flask(__name__)\n",
    "@app.route(\"/\")\n",
    "def hello_world():\n",
    "    return \"<h1>Hello, World!</h1>\"\n",
    "    if __name__==\"__main__\":\n",
    "        app.run(host=\"0.0.0.0\")"
   ]
  },
  {
   "cell_type": "code",
   "execution_count": null,
   "id": "77911d24-3a00-46a6-a89f-ad993f46d977",
   "metadata": {},
   "outputs": [],
   "source": [
    "Hello, World!"
   ]
  },
  {
   "cell_type": "markdown",
   "id": "aafa82ce-107e-4c84-a3cb-c70bfd2a2238",
   "metadata": {},
   "source": [
    "Q3. What is App routing in Flask? Why do we use app routes?"
   ]
  },
  {
   "cell_type": "markdown",
   "id": "e7d2c30f-87a6-4228-8c81-b78172d0128a",
   "metadata": {},
   "source": [
    "Ans: In Flask, the process of defining the URLs that map to specific functions or methods in your application is known as routing. \n",
    "When a user visits a URL in your application, Flask uses the routing rules to determine which function or method should handle the request and return the response."
   ]
  },
  {
   "cell_type": "markdown",
   "id": "68d33c4e-e635-4ea7-a2a5-b51bb0f0771a",
   "metadata": {},
   "source": [
    "Q4. Create a “/welcome” route to display the welcome message “Welcome to ABC Corporation” and a “/”\n",
    "route to show the following details:\n",
    "Company Name: ABC Corporation\n",
    "Location: India\n",
    "Contact Detail: 999-999-9999\n",
    "Attach the screenshot of the output in Jupyter Notebook."
   ]
  },
  {
   "cell_type": "code",
   "execution_count": null,
   "id": "80e49ef4-bdda-4d72-83d3-d3036f4786e6",
   "metadata": {},
   "outputs": [],
   "source": []
  },
  {
   "cell_type": "markdown",
   "id": "8be8a0e5-f789-4357-b8f0-93e66e5ed880",
   "metadata": {},
   "source": [
    "Q5. What function is used in Flask for URL Building? Write a Python code to demonstrate the working of the\n",
    "url_for() function."
   ]
  },
  {
   "cell_type": "code",
   "execution_count": null,
   "id": "1e6c5857-193b-49de-86ca-5960b1dc7028",
   "metadata": {},
   "outputs": [],
   "source": [
    "Ans : url_for() "
   ]
  }
 ],
 "metadata": {
  "kernelspec": {
   "display_name": "Python 3 (ipykernel)",
   "language": "python",
   "name": "python3"
  },
  "language_info": {
   "codemirror_mode": {
    "name": "ipython",
    "version": 3
   },
   "file_extension": ".py",
   "mimetype": "text/x-python",
   "name": "python",
   "nbconvert_exporter": "python",
   "pygments_lexer": "ipython3",
   "version": "3.10.8"
  }
 },
 "nbformat": 4,
 "nbformat_minor": 5
}
